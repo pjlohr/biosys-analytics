{
 "cells": [
  {
   "cell_type": "markdown",
   "metadata": {},
   "source": [
    "# Introduction to Regular Expressions in Python"
   ]
  },
  {
   "cell_type": "code",
   "execution_count": 109,
   "metadata": {},
   "outputs": [],
   "source": [
    "# To use regular expressions\n",
    "import re"
   ]
  },
  {
   "cell_type": "code",
   "execution_count": 110,
   "metadata": {},
   "outputs": [
    {
     "name": "stdout",
     "output_type": "stream",
     "text": [
      "<_sre.SRE_Match object; span=(0, 1), match='1'>\n"
     ]
    }
   ],
   "source": [
    "# How do we match a number?\n",
    "print(re.match('1', '1'))"
   ]
  },
  {
   "cell_type": "code",
   "execution_count": 111,
   "metadata": {},
   "outputs": [
    {
     "name": "stdout",
     "output_type": "stream",
     "text": [
      "None\n"
     ]
    }
   ],
   "source": [
    "# But that only works for just \"1\"\n",
    "print(re.match('2', '1'))"
   ]
  },
  {
   "cell_type": "code",
   "execution_count": 112,
   "metadata": {},
   "outputs": [
    {
     "data": {
      "text/plain": [
       "<_sre.SRE_Match object; span=(0, 1), match='1'>"
      ]
     },
     "execution_count": 112,
     "metadata": {},
     "output_type": "execute_result"
    }
   ],
   "source": [
    "# How do we match all the numbers from 0 to 9? \n",
    "# The `r''` is for a \"raw\" string -- as regexes become more complicated, this will matter!\n",
    "re.match(r'[0-9]', '1')"
   ]
  },
  {
   "cell_type": "code",
   "execution_count": 113,
   "metadata": {},
   "outputs": [
    {
     "data": {
      "text/plain": [
       "<_sre.SRE_Match object; span=(0, 1), match='1'>"
      ]
     },
     "execution_count": 113,
     "metadata": {},
     "output_type": "execute_result"
    }
   ],
   "source": [
    "# There is a short-hand for the character class `[0-9]` that is `\\d` (digit)\n",
    "re.match(r'\\d', '1')"
   ]
  },
  {
   "cell_type": "code",
   "execution_count": 114,
   "metadata": {},
   "outputs": [
    {
     "data": {
      "text/plain": [
       "<_sre.SRE_Match object; span=(0, 1), match='1'>"
      ]
     },
     "execution_count": 114,
     "metadata": {},
     "output_type": "execute_result"
    }
   ],
   "source": [
    "# But this only matches the first number we see\n",
    "re.match(r'\\d', '123')"
   ]
  },
  {
   "cell_type": "code",
   "execution_count": 115,
   "metadata": {},
   "outputs": [
    {
     "name": "stdout",
     "output_type": "stream",
     "text": [
      "<_sre.SRE_Match object; span=(0, 4), match='1234'>\n",
      "<_sre.SRE_Match object; span=(0, 10), match='1234567890'>\n",
      "<_sre.SRE_Match object; span=(0, 5), match='12345'>\n",
      "<_sre.SRE_Match object; span=(0, 8), match='12345678'>\n"
     ]
    }
   ],
   "source": [
    "# We can use `{}` to indicate `{min,max}`, `{min,}`, `{,max}`, or `{exactly}`\n",
    "print(re.match(r'\\d{1,4}', '1234567890'))\n",
    "print(re.match(r'\\d{1,}', '1234567890'))\n",
    "print(re.match(r'\\d{,5}', '1234567890'))\n",
    "print(re.match(r'\\d{8}', '1234567890'))"
   ]
  },
  {
   "cell_type": "code",
   "execution_count": 116,
   "metadata": {},
   "outputs": [
    {
     "name": "stdout",
     "output_type": "stream",
     "text": [
      "123456789: None\n",
      "123-456-789: None\n",
      "123-45-6789: <_sre.SRE_Match object; span=(0, 11), match='123-45-6789'>\n"
     ]
    }
   ],
   "source": [
    "# What if we wanted to recognize a US SSN (social security number)? \n",
    "# We will use `re.compile` to create the regex and use it in a `for` loop \n",
    "ssn_re = re.compile(r'\\d{3}-\\d{2}-\\d{4}')\n",
    "for s in ['123456789', '123-456-789', '123-45-6789']:\n",
    "    print('{}: {}'.format(s, ssn_re.match(s)))"
   ]
  },
  {
   "cell_type": "code",
   "execution_count": 34,
   "metadata": {
    "collapsed": true
   },
   "outputs": [
    {
     "name": "stdout",
     "output_type": "stream",
     "text": [
      "1999-01-01: <_sre.SRE_Match object; span=(0, 10), match='1999-01-01'>\n",
      "1999/01/01: None\n"
     ]
    }
   ],
   "source": [
    "# SSNs always use a dash (`-`) as a number separator, but dates do not\n",
    "date_re = re.compile(r'\\d{4}-\\d{2}-\\d{2}')\n",
    "dates = ['1999-01-01', '1999/01/01']\n",
    "for d in dates:\n",
    "    print('{}: {}'.format(d, date_re.match(d)))"
   ]
  },
  {
   "cell_type": "code",
   "execution_count": 35,
   "metadata": {
    "collapsed": true
   },
   "outputs": [
    {
     "name": "stdout",
     "output_type": "stream",
     "text": [
      "1999-01-01: <_sre.SRE_Match object; span=(0, 10), match='1999-01-01'>\n",
      "1999/01/01: <_sre.SRE_Match object; span=(0, 10), match='1999/01/01'>\n"
     ]
    }
   ],
   "source": [
    "# Just as we created a character class with `[0-9]` to \n",
    "# represent all the numbers from 0 to 9,\n",
    "# we can create a class to represent the separators \"/\" and \"-\" \n",
    "# with `[/-]`\n",
    "date_re = re.compile(r'\\d{4}[/-]\\d{2}[/-]\\d{2}')\n",
    "dates = ['1999-01-01', '1999/01/01']\n",
    "for d in dates:\n",
    "    print('{}: {}'.format(d, date_re.match(d)))"
   ]
  },
  {
   "cell_type": "code",
   "execution_count": 87,
   "metadata": {
    "collapsed": true
   },
   "outputs": [
    {
     "name": "stdout",
     "output_type": "stream",
     "text": [
      "1999-01-01: match\n",
      "('1999', '01', '01')\n",
      "year: 1999\n",
      "\n",
      "1999/01/01: match\n",
      "('1999', '01', '01')\n",
      "year: 1999\n",
      "\n",
      "1999.01.01: miss\n",
      "\n"
     ]
    }
   ],
   "source": [
    "# If we wanted to extract each part of the date (year, month, day),\n",
    "# we can use parentheses `()` around the parts we want to capture \n",
    "# into `groups`. The group \"0\" is the whole string that was match, \n",
    "# and they are numbered sequentially after that for each group\n",
    "#\n",
    "# Can you change the regex to match all three strings?\n",
    "date_re = re.compile(r'(\\d{4})[/-](\\d{2})[/-](\\d{2})')\n",
    "dates = ['1999-01-01', '1999/01/01', '1999.01.01']\n",
    "for d in dates:\n",
    "    match = date_re.match(d)\n",
    "    print('{}: {}'.format(d, 'match' if match else 'miss'))\n",
    "    if match:\n",
    "        print(match.groups())\n",
    "        print('year:', match.group(1))\n",
    "    print()"
   ]
  },
  {
   "cell_type": "code",
   "execution_count": 53,
   "metadata": {
    "collapsed": true
   },
   "outputs": [
    {
     "name": "stdout",
     "output_type": "stream",
     "text": [
      "1999-01-01: match\n",
      "1999-01-01 = year \"1999\" month \"01\" day \"01\"\n",
      "\n",
      "1999/01/01: match\n",
      "1999/01/01 = year \"1999\" month \"01\" day \"01\"\n",
      "\n",
      "1999.01.01: miss\n",
      "\n"
     ]
    }
   ],
   "source": [
    "# As we add more groups, it can be confusing to \n",
    "# remember them by their positions, so we can name them with\n",
    "# `?P<name>` just inside the parens\n",
    "date_re = re.compile(r'(?P<year>\\d{4})[/-](?P<month>\\d{2})[/-](?P<day>\\d{2})')\n",
    "dates = ['1999-01-01', '1999/01/01', '1999.01.01']\n",
    "\n",
    "for d in dates:\n",
    "    match = date_re.match(d)\n",
    "    print('{}: {}'.format(d, 'match' if match else 'miss'))\n",
    "    if match:\n",
    "        print('{} = year \"{}\" month \"{}\" day \"{}\"'.format(d, match.group('year'), match.group('month'), match.group('day')))\n",
    "    print()"
   ]
  },
  {
   "cell_type": "code",
   "execution_count": 55,
   "metadata": {
    "collapsed": true
   },
   "outputs": [],
   "source": [
    "# What if we wanted to match a US phone number?\n",
    "phone_re = re.compile(r'(\\d{3}) \\d{3}-\\d{4}')\n",
    "phone_re.match('(800) 555-1212')"
   ]
  },
  {
   "cell_type": "code",
   "execution_count": 56,
   "metadata": {
    "collapsed": true
   },
   "outputs": [
    {
     "data": {
      "text/plain": [
       "<_sre.SRE_Match object; span=(0, 14), match='(800) 555-1212'>"
      ]
     },
     "execution_count": 56,
     "metadata": {},
     "output_type": "execute_result"
    }
   ],
   "source": [
    "# Why didn't that work?\n",
    "# What do those parentheses do again? They group!\n",
    "# So we need to indicate that the parens are literal \n",
    "# things to match by using backslashes `\\` to escape them.\n",
    "phone_re = re.compile(r'\\(\\d{3}\\) \\d{3}-\\d{4}')\n",
    "phone_re.match('(800) 555-1212')"
   ]
  },
  {
   "cell_type": "code",
   "execution_count": 58,
   "metadata": {
    "collapsed": true
   },
   "outputs": [
    {
     "data": {
      "text/plain": [
       "<_sre.SRE_Match object; span=(0, 14), match='(800) 555-1212'>"
      ]
     },
     "execution_count": 58,
     "metadata": {},
     "output_type": "execute_result"
    }
   ],
   "source": [
    "# We could also use character classes to make this more readable\n",
    "phone_re = re.compile(r'[(]\\d{3}[)] \\d{3}-\\d{4}')\n",
    "phone_re.match('(800) 555-1212')"
   ]
  },
  {
   "cell_type": "code",
   "execution_count": 86,
   "metadata": {
    "collapsed": true
   },
   "outputs": [
    {
     "name": "stdout",
     "output_type": "stream",
     "text": [
      "(800)555-1212\t<_sre.SRE_Match object; span=(0, 13), match='(800)555-1212'>\n",
      "(800) 555-1212\t<_sre.SRE_Match object; span=(0, 14), match='(800) 555-1212'>\n",
      "(800)  555-1212\t<_sre.SRE_Match object; span=(0, 15), match='(800)  555-1212'>\n"
     ]
    }
   ],
   "source": [
    "# There is not always a space after the area code, and it may \n",
    "# sometimes it may be more than one space (or a tab?)\n",
    "# We can use the `\\s` to indicate any type of whitespace and \n",
    "# `*` to indicate zero or more\n",
    "phone_re = re.compile(r'[(]\\d{3}[)]\\s*\\d{3}-\\d{4}')\n",
    "phones = ['(800)555-1212', '(800) 555-1212', '(800)  555-1212']\n",
    "for phone in phones:\n",
    "    print('{}\\t{}'.format(phone, phone_re.match(phone)))"
   ]
  },
  {
   "cell_type": "code",
   "execution_count": 85,
   "metadata": {
    "collapsed": true
   },
   "outputs": [
    {
     "name": "stdout",
     "output_type": "stream",
     "text": [
      "(800)555-1212\t<_sre.SRE_Match object; span=(0, 13), match='(800)555-1212'>\n",
      "(800) 555-1212\t<_sre.SRE_Match object; span=(0, 14), match='(800) 555-1212'>\n",
      "800-555-1212\t<_sre.SRE_Match object; span=(0, 12), match='800-555-1212'>\n"
     ]
    }
   ],
   "source": [
    "# When the parens around the area code are optional,\n",
    "# usually there is a dash to separate the area code\n",
    "phone_re = re.compile(r'[(]?\\d{3}[)]?[-]?\\s*\\d{3}-\\d{4}')\n",
    "phones = ['(800)555-1212', '(800) 555-1212', '800-555-1212']\n",
    "for phone in phones:\n",
    "    print('{}\\t{}'.format(phone, phone_re.match(phone)))"
   ]
  },
  {
   "cell_type": "code",
   "execution_count": 63,
   "metadata": {
    "collapsed": true
   },
   "outputs": [
    {
     "data": {
      "text/plain": [
       "<_sre.SRE_Match object; span=(0, 14), match='(800)-555-1212'>"
      ]
     },
     "execution_count": 63,
     "metadata": {},
     "output_type": "execute_result"
    }
   ],
   "source": [
    "# This has the affect of matching a dash after parens which \n",
    "# is generally not a valid format\n",
    "phone_re = re.compile(r'[(]?\\d{3}[)]?[-]?\\s*\\d{3}-\\d{4}')\n",
    "phone_re.match('(800)-555-1212')"
   ]
  },
  {
   "cell_type": "code",
   "execution_count": 84,
   "metadata": {
    "collapsed": true
   },
   "outputs": [
    {
     "name": "stdout",
     "output_type": "stream",
     "text": [
      "(800)555-1212\tmatch\n",
      "(800) 555-1212\tmatch\n",
      "800-555-1212\tmatch\n",
      "(800)-555-1212\tmiss\n"
     ]
    }
   ],
   "source": [
    "# We really have to create two regexes to handle these cases\n",
    "phone_re1 = re.compile(r'[(]\\d{3}[)]\\s*\\d{3}-\\d{4}')\n",
    "phone_re2 = re.compile(r'\\d{3}-\\d{3}-\\d{4}')\n",
    "phones = ['(800)555-1212', '(800) 555-1212', '800-555-1212', '(800)-555-1212']\n",
    "for phone in phones:\n",
    "    match1 = phone_re1.match(phone)\n",
    "    match2 = phone_re2.match(phone)\n",
    "    print('{}\\t{}'.format(phone, 'match' if match1 or match2 else 'miss'))"
   ]
  },
  {
   "cell_type": "code",
   "execution_count": 83,
   "metadata": {
    "collapsed": true
   },
   "outputs": [
    {
     "name": "stdout",
     "output_type": "stream",
     "text": [
      "8005551212\tmatch\n",
      "(800)555-1212\tmatch\n",
      "(800) 555-1212\tmatch\n",
      "800-555-1212\tmatch\n",
      "(800)-555-1212\tmiss\n",
      "800.555.1212\tmatch\n"
     ]
    }
   ],
   "source": [
    "# I worked with a graphic artist who always insisted on using \n",
    "# dots as the number separator, and sometimes there are no \n",
    "# separators at all\n",
    "phone_re1 = re.compile(r'[(]\\d{3}[)]\\s*\\d{3}[.-]\\d{4}')\n",
    "phone_re2 = re.compile(r'\\d{3}[.-]?\\d{3}[.-]?\\d{4}')\n",
    "phones = ['8005551212', '(800)555-1212', '(800) 555-1212', '800-555-1212', '(800)-555-1212', '800.555.1212']\n",
    "for phone in phones:\n",
    "    match1 = phone_re1.match(phone)\n",
    "    match2 = phone_re2.match(phone)\n",
    "    print('{}\\t{}'.format(phone, 'match' if match1 or match2 else 'miss'))"
   ]
  },
  {
   "cell_type": "code",
   "execution_count": 93,
   "metadata": {
    "collapsed": true
   },
   "outputs": [
    {
     "name": "stdout",
     "output_type": "stream",
     "text": [
      "8005551212\tNone\n",
      "(800)555-1212\t<_sre.SRE_Match object; span=(0, 13), match='(800)555-1212'>\n",
      "(800) 555-1212\t<_sre.SRE_Match object; span=(0, 14), match='(800) 555-1212'>\n",
      "800-555-1212\tNone\n",
      "(800)-555-1212\tNone\n",
      "800.555.1212\tNone\n"
     ]
    }
   ],
   "source": [
    "phone_re1 = re.compile(r'([(]\\d{3}[)])\\s*(\\d{3})[.-](\\d{4})')\n",
    "phones = ['8005551212', '(800)555-1212', '(800) 555-1212', '800-555-1212', '(800)-555-1212', '800.555.1212']\n",
    "for phone in phones:\n",
    "    print('{}\\t{}'.format(phone, phone_re1.match(phone)))"
   ]
  },
  {
   "cell_type": "code",
   "execution_count": 102,
   "metadata": {
    "collapsed": true
   },
   "outputs": [
    {
     "name": "stdout",
     "output_type": "stream",
     "text": [
      "8005551212\t800-555-1212\n",
      "(800)555-1212\t800-555-1212\n",
      "(800) 555-1212\t800-555-1212\n",
      "800-555-1212\t800-555-1212\n",
      "(800)-555-1212\tmiss\n",
      "800.555.1212\t800-555-1212\n"
     ]
    }
   ],
   "source": [
    "# OK, now let's normalize the numbers by using parens to\n",
    "# capture the area code, prefix, and line number and then \n",
    "# create a standard representation.\n",
    "phone_re1 = re.compile(r'[(](\\d{3})[)]\\s*(\\d{3})[.-](\\d{4})')\n",
    "phone_re2 = re.compile(r'(\\d{3})[.-]?(\\d{3})[.-]?(\\d{4})')\n",
    "phones = ['8005551212', '(800)555-1212', '(800) 555-1212', '800-555-1212', '(800)-555-1212', '800.555.1212']\n",
    "for phone in phones:\n",
    "    match = phone_re1.match(phone) or phone_re2.match(phone)\n",
    "    standard = '{}-{}-{}'.format(match.group(1), match.group(2), match.group(3)) if match else 'miss'\n",
    "    print('{}\\t{}'.format(phone, standard))"
   ]
  },
  {
   "cell_type": "code",
   "execution_count": 117,
   "metadata": {},
   "outputs": [
    {
     "name": "stdout",
     "output_type": "stream",
     "text": [
      "8005551212\t800-555-1212\n",
      "(800)555-1212\t800-555-1212\n",
      "(800) 555-1212\t800-555-1212\n",
      "800-555-1212\t800-555-1212\n",
      "(800)-555-1212\tmiss\n",
      "800.555.1212\t800-555-1212\n"
     ]
    }
   ],
   "source": [
    "# And if we add named capture groups...\n",
    "phone_re1 = re.compile(r'[(](?P<area_code>\\d{3})[)]\\s*(?P<prefix>\\d{3})[.-](?P<line_num>\\d{4})')\n",
    "phone_re2 = re.compile(r'(?P<area_code>\\d{3})[.-]?(?P<prefix>\\d{3})[.-]?(?P<line_num>\\d{4})')\n",
    "phones = ['8005551212', '(800)555-1212', '(800) 555-1212', '800-555-1212', '(800)-555-1212', '800.555.1212']\n",
    "for phone in phones:\n",
    "    match = phone_re1.match(phone) or phone_re2.match(phone)\n",
    "    standard = '{}-{}-{}'.format(match.group('area_code'), match.group('prefix'), match.group('line_num')) if match else 'miss'\n",
    "    print('{}\\t{}'.format(phone, standard))"
   ]
  },
  {
   "cell_type": "code",
   "execution_count": 108,
   "metadata": {
    "collapsed": true
   },
   "outputs": [
    {
     "name": "stdout",
     "output_type": "stream",
     "text": [
      "8005551212\t800-555-1212\n",
      "(800)555-1212\t800-555-1212\n",
      "(800) 555-1212\t800-555-1212\n",
      "800-555-1212\t800-555-1212\n",
      "(800)-555-1212\tmiss\n",
      "800.555.1212\t800-555-1212\n"
     ]
    }
   ],
   "source": [
    "# And if we add named capture groups\n",
    "# and named groups in `format` ...\n",
    "phone_re1 = re.compile(r'[(](?P<area_code>\\d{3})[)]\\s*(?P<prefix>\\d{3})[.-](?P<line_num>\\d{4})')\n",
    "phone_re2 = re.compile(r'(?P<area_code>\\d{3})[.-]?(?P<prefix>\\d{3})[.-]?(?P<line_num>\\d{4})')\n",
    "phones = ['8005551212', '(800)555-1212', '(800) 555-1212', '800-555-1212', '(800)-555-1212', '800.555.1212']\n",
    "for phone in phones:\n",
    "    match = phone_re1.match(phone) or phone_re2.match(phone)\n",
    "    standard = '{area_code}-{prefix}-{line_num}'.format(prefix=match.group('prefix'), \n",
    "                                                        area_code=match.group('area_code'),\n",
    "                                                        line_num=match.group('line_num')) if match else 'miss'\n",
    "    print('{}\\t{}'.format(phone, standard))"
   ]
  },
  {
   "cell_type": "code",
   "execution_count": null,
   "metadata": {
    "collapsed": true
   },
   "outputs": [],
   "source": []
  }
 ],
 "metadata": {
  "kernelspec": {
   "display_name": "Python 3",
   "language": "python",
   "name": "python3"
  },
  "language_info": {
   "codemirror_mode": {
    "name": "ipython",
    "version": 3
   },
   "file_extension": ".py",
   "mimetype": "text/x-python",
   "name": "python",
   "nbconvert_exporter": "python",
   "pygments_lexer": "ipython3",
   "version": "3.6.8"
  }
 },
 "nbformat": 4,
 "nbformat_minor": 2
}
